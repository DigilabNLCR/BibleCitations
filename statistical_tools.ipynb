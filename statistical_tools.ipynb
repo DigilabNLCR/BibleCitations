{
 "cells": [
  {
   "cell_type": "markdown",
   "metadata": {},
   "source": [
    "# STatistical tools for BiblicalIntertextuality\n",
    "\n",
    "This jupyter notebook contains functions that allows you to process statistics out of the data corpus (both journals and the Bible) and out of the results file."
   ]
  },
  {
   "cell_type": "code",
   "execution_count": 6,
   "metadata": {},
   "outputs": [],
   "source": [
    "import pandas as pd\n",
    "import json\n",
    "import os\n",
    "import biblical_intertextuality_package as bip\n",
    "from collections import defaultdict\n",
    "import numpy as np\n",
    "\n",
    "from biblical_intertextuality_package import split_verse"
   ]
  },
  {
   "cell_type": "code",
   "execution_count": 5,
   "metadata": {},
   "outputs": [],
   "source": [
    "ROOT_PATH = os.getcwd()\n",
    "\n",
    "BIBLES_PATH = os.path.join(ROOT_PATH, 'Bible_files')\n",
    "DATASETS_PATH = os.path.join(ROOT_PATH, 'datasets')\n",
    "DICTS_PATH = os.path.join(ROOT_PATH, 'dictionaries')\n",
    "CORPUS_PATH = os.path.join(ROOT_PATH, 'corpuses')\n",
    "ALL_JSONS_PATH = os.path.join(ROOT_PATH, 'query_jsons')\n",
    "\n",
    "JOURNAL_FULLDATA_PATH = os.path.join(ROOT_PATH, 'journals_fulldata.joblib')\n",
    "\n",
    "# RESULTS_PATH = os.path.join(ROOT_PATH, 'results')\n",
    "RESULTS_PATH = os.path.join(ROOT_PATH, 'PUBLIC_RESULTS')\n",
    "BATCHES_FILE_PATH = os.path.join(ROOT_PATH, 'batches.csv')\n",
    "BATCH_RESULTS_FILE_PATH = os.path.join(RESULTS_PATH, 'batch_results.csv')\n",
    "\n",
    "STOP_WORDS_PATH = os.path.join(ROOT_PATH, 'stop_words.txt')\n",
    "STOP_SUBVERSES_PATH = os.path.join(ROOT_PATH, 'stop_subverses_21.txt')\n",
    "EXCLUSIVES_PATH = os.path.join(ROOT_PATH, 'exclusives.txt')\n",
    "\n",
    "EVALUATION_STOP_SUBVERSES_PATH = os.path.join(ROOT_PATH, 'evaluation_stop_subverses_21.txt')\n",
    "FULL_HIT_NEEDED_SUBS_PATH = os.path.join(ROOT_PATH, '100_hit_needed_subs_21.txt')"
   ]
  },
  {
   "cell_type": "markdown",
   "metadata": {},
   "source": [
    "## The Bible statistics\n",
    "Following functions return statistics about Bible files as stored in Bible_files directory. Be aware that we as the developers have an additional translation at our disposal ('Bible Svatováclavská') so your statistics will be probably different.\n",
    "\n",
    "- number of translations at our disposal: 5\n",
    "    - one is both Old and New Testament (\"Bible Kralická\")\n",
    "    - translation of Jan Hejčl: Old Testament + deuterocanonical books\n",
    "    - \"Bible of the Saint Venceslas\": mix of Old and New Testament, not complete (even some individual verses are missing)\n",
    "    - translation of Ladislav Sýkora: New Testament\n",
    "    - translation of František Žilka: New Testament"
   ]
  },
  {
   "cell_type": "code",
   "execution_count": 4,
   "metadata": {},
   "outputs": [],
   "source": [
    "translation_names = {'BKR': 'Bible Kralická', 'BSV': 'Bible Svatováclavská', 'HEJCL': 'Jan Hejčl', 'SYK': 'Ladislav Sýkora', 'ZP': 'František Žilka'}"
   ]
  },
  {
   "cell_type": "code",
   "execution_count": 15,
   "metadata": {},
   "outputs": [],
   "source": [
    "def get_book_filename_data(bible_file_name:str):\n",
    "    bible_file_name = bible_file_name[:-4]\n",
    "    filename_parts = bible_file_name.split('_')\n",
    "\n",
    "    translation = filename_parts[1]\n",
    "    book_name = filename_parts[2]\n",
    "\n",
    "    return translation, book_name\n",
    "\n",
    "\n",
    "def analise_the_bible():\n",
    "    \"\"\"\n",
    "    This function analyses all data in the Bible_files directory. You can change split_verse settings if you have created your dataset with different settings.\n",
    "    \n",
    "    It prints following statistics:\n",
    "    - number of translations and their abbreviated names\n",
    "    - number of books (in aggregation and for each translation separately)\n",
    "    - number of verses (by verse_id, all in aggregation, and for each translation separately)\n",
    "    - number of subverses (in aggregation and for each translation separately)\n",
    "\n",
    "    And it saves csv file with statistics of books, verses and subverses for each translation (into RESULTS_PATH (by defaut now PUBLIC_RESULTS directory) --> statistics).\n",
    "    \"\"\"\n",
    "    all_bible_files = os.listdir(BIBLES_PATH)\n",
    "\n",
    "    translations = []\n",
    "    \n",
    "    books_names = []\n",
    "    books_aggregated = 0\n",
    "    books_per_trsl = defaultdict(int)\n",
    "\n",
    "    verse_ids = []\n",
    "    verses_aggregated = 0\n",
    "    verses_per_trsl = defaultdict(int)\n",
    "\n",
    "    subverses_aggregated = 0\n",
    "    subverses_per_trsl = defaultdict(int)\n",
    "\n",
    "    for bible_file in all_bible_files:\n",
    "        translation, book_name = get_book_filename_data(bible_file)\n",
    "        \n",
    "        translations.append(translation)\n",
    "\n",
    "        books_names.append(book_name)\n",
    "        books_aggregated += 1\n",
    "        books_per_trsl[translation] += 1\n",
    "\n",
    "        with open(os.path.join(BIBLES_PATH, bible_file), 'r', encoding='utf-8') as b_file:\n",
    "            data = b_file.read()\n",
    "            verses = eval(data)\n",
    "\n",
    "            for verse_id in verses:\n",
    "                verse_ids.append(verse_id)\n",
    "                verses_aggregated += 1\n",
    "                verses_per_trsl[translation] += 1\n",
    "\n",
    "                subverses = split_verse(verses[verse_id])\n",
    "\n",
    "                subverses_aggregated += len(subverses)\n",
    "                subverses_per_trsl[translation] += len(subverses)\n",
    "\n",
    "    translations = list(set(translations))\n",
    "\n",
    "    print(translations)\n",
    "    print('Numebr of translations:', len(translations))\n",
    "\n",
    "    print()\n",
    "\n",
    "    books_names = list(set(books_names))\n",
    "    print('Number of available books:', len(books_names))\n",
    "    print('Number of books accross translations:', books_aggregated)\n",
    "    for trsl in books_per_trsl:\n",
    "        print('Number of books in', trsl, 'is', books_per_trsl[trsl])\n",
    "\n",
    "    print()\n",
    "\n",
    "    verse_ids = list(set(verse_ids))\n",
    "    print('Number of available verses:', len(verse_ids))\n",
    "    print('Number of verses accross translations:', verses_aggregated)\n",
    "    for trsl in verses_per_trsl:\n",
    "        print('Number of verses in', trsl, 'is', verses_per_trsl[trsl])\n",
    "\n",
    "    print()\n",
    "    \n",
    "    print('Total number of subverses:', subverses_aggregated)\n",
    "    for trsl in subverses_per_trsl:\n",
    "        print('Number of subverses in', trsl, 'is', subverses_per_trsl[trsl])\n",
    "\n",
    "    df_dict = {'translation': [], 'books': [], 'verses': [], 'subverses': []}\n",
    "    for trsl in translations:\n",
    "        df_dict['translation'].append(trsl)\n",
    "        df_dict['books'].append(books_per_trsl[trsl])\n",
    "        df_dict['verses'].append(verses_per_trsl[trsl])\n",
    "        df_dict['subverses'].append(subverses_per_trsl[trsl])\n",
    "\n",
    "    \n",
    "    bible_stats_df = pd.DataFrame(df_dict)\n",
    "    bible_stats_df.to_csv(os.path.join(RESULTS_PATH, 'statistics', 'bible_stats.csv'))\n"
   ]
  },
  {
   "cell_type": "code",
   "execution_count": 16,
   "metadata": {},
   "outputs": [
    {
     "name": "stdout",
     "output_type": "stream",
     "text": [
      "['BKR', 'SYK', 'HEJCL', 'BSV', 'ZP']\n",
      "Numebr of translations: 5\n",
      "\n",
      "Number of available books: 75\n",
      "Number of books accross translations: 201\n",
      "Number of books in BKR is 65\n",
      "Number of books in BSV is 37\n",
      "Number of books in HEJCL is 47\n",
      "Number of books in SYK is 26\n",
      "Number of books in ZP is 26\n",
      "\n",
      "Number of available verses: 38190\n",
      "Number of verses accross translations: 89080\n",
      "Number of verses in BKR is 30767\n",
      "Number of verses in BSV is 15326\n",
      "Number of verses in HEJCL is 27896\n",
      "Number of verses in SYK is 7541\n",
      "Number of verses in ZP is 7550\n",
      "\n",
      "Total number of subverses: 327972\n",
      "Number of subverses in BKR is 119388\n",
      "Number of subverses in BSV is 55660\n",
      "Number of subverses in HEJCL is 103523\n",
      "Number of subverses in SYK is 24786\n",
      "Number of subverses in ZP is 24615\n"
     ]
    }
   ],
   "source": [
    "analise_the_bible()"
   ]
  },
  {
   "cell_type": "markdown",
   "metadata": {},
   "source": [
    "## Journals data statistics\n",
    "\n",
    "The following section contains functions that facilitace journals statistics. Since the sournals data are not availabe within the GitHub repository, these functions are pretty much useless for you, unles you wish to analyse your own datasets."
   ]
  },
  {
   "cell_type": "code",
   "execution_count": null,
   "metadata": {},
   "outputs": [],
   "source": [
    "def analyse_journals():\n",
    "    \"\"\"\n",
    "    This function analyses the available journal files (in ALL_JSONS_PATH, i.e. the guery_jsons folder)\n",
    "    \"\"\""
   ]
  },
  {
   "cell_type": "markdown",
   "metadata": {},
   "source": [
    "## Results statistics\n",
    "\n",
    "The following section contains functions that facilitate results stiatistics\n",
    "\n",
    "### Runtime statistics\n",
    "Statistics of runtimes - based on batches.csv file (the runtimes are always averages per batch, not per single documents!)"
   ]
  }
 ],
 "metadata": {
  "kernelspec": {
   "display_name": "Python 3.9.9 ('venv': venv)",
   "language": "python",
   "name": "python3"
  },
  "language_info": {
   "codemirror_mode": {
    "name": "ipython",
    "version": 3
   },
   "file_extension": ".py",
   "mimetype": "text/x-python",
   "name": "python",
   "nbconvert_exporter": "python",
   "pygments_lexer": "ipython3",
   "version": "3.9.9"
  },
  "orig_nbformat": 4,
  "vscode": {
   "interpreter": {
    "hash": "87a9b2b242b38e94a819abbe84d1459ca0c92b18a62bfdb9bd39457d363f0a13"
   }
  }
 },
 "nbformat": 4,
 "nbformat_minor": 2
}
